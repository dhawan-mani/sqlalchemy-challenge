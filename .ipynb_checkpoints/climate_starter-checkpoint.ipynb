{
 "cells": [
  {
   "cell_type": "code",
   "execution_count": 1,
   "metadata": {},
   "outputs": [],
   "source": [
    "%matplotlib inline\n",
    "from matplotlib import style\n",
    "style.use('fivethirtyeight')\n",
    "import matplotlib.pyplot as plt"
   ]
  },
  {
   "cell_type": "code",
   "execution_count": 2,
   "metadata": {},
   "outputs": [],
   "source": [
    "import numpy as np\n",
    "import pandas as pd"
   ]
  },
  {
   "cell_type": "markdown",
   "metadata": {},
   "source": [
    "# Reflect Tables into SQLAlchemy ORM"
   ]
  },
  {
   "cell_type": "code",
   "execution_count": 141,
   "metadata": {},
   "outputs": [],
   "source": [
    "# Python SQL toolkit and Object Relational Mapper\n",
    "import sqlalchemy\n",
    "from sqlalchemy.ext.automap import automap_base\n",
    "from sqlalchemy.orm import Session\n",
    "from sqlalchemy import create_engine, func,inspect"
   ]
  },
  {
   "cell_type": "code",
   "execution_count": 142,
   "metadata": {},
   "outputs": [],
   "source": [
    "engine = create_engine(\"sqlite:///Resources/hawaii.sqlite\")"
   ]
  },
  {
   "cell_type": "code",
   "execution_count": 143,
   "metadata": {},
   "outputs": [],
   "source": [
    "# reflect an existing database into a new model\n",
    "Base = automap_base()\n",
    "Base.prepare(engine,reflect=True)\n",
    "# reflect the tables\n"
   ]
  },
  {
   "cell_type": "code",
   "execution_count": 144,
   "metadata": {},
   "outputs": [
    {
     "data": {
      "text/plain": [
       "['measurement', 'station']"
      ]
     },
     "execution_count": 144,
     "metadata": {},
     "output_type": "execute_result"
    }
   ],
   "source": [
    "# We can view all of the classes that automap found\n",
    "Base.classes.keys()"
   ]
  },
  {
   "cell_type": "code",
   "execution_count": 145,
   "metadata": {},
   "outputs": [],
   "source": [
    "# Save references to each table\n",
    "Measurement = Base.classes.measurement\n",
    "Station = Base.classes.station"
   ]
  },
  {
   "cell_type": "code",
   "execution_count": 146,
   "metadata": {},
   "outputs": [],
   "source": [
    "# Create our session (link) from Python to the DB\n",
    "session = Session(engine)"
   ]
  },
  {
   "cell_type": "code",
   "execution_count": 147,
   "metadata": {},
   "outputs": [
    {
     "name": "stdout",
     "output_type": "stream",
     "text": [
      "id INTEGER\n",
      "station TEXT\n",
      "date TEXT\n",
      "prcp FLOAT\n",
      "tobs FLOAT\n"
     ]
    }
   ],
   "source": [
    "Inspector = inspect(engine)\n",
    "columns = Inspector.get_columns('measurement')\n",
    "for column in columns:\n",
    "    print(column['name'],column['type'])\n"
   ]
  },
  {
   "cell_type": "markdown",
   "metadata": {},
   "source": [
    "# Exploratory Climate Analysis"
   ]
  },
  {
   "cell_type": "code",
   "execution_count": 148,
   "metadata": {},
   "outputs": [],
   "source": [
    "\n",
    "import datetime as dt\n",
    "from dateutil.relativedelta import relativedelta  \n",
    "from sqlalchemy import and_\n"
   ]
  },
  {
   "cell_type": "code",
   "execution_count": 11,
   "metadata": {},
   "outputs": [
    {
     "data": {
      "text/html": [
       "<div>\n",
       "<style scoped>\n",
       "    .dataframe tbody tr th:only-of-type {\n",
       "        vertical-align: middle;\n",
       "    }\n",
       "\n",
       "    .dataframe tbody tr th {\n",
       "        vertical-align: top;\n",
       "    }\n",
       "\n",
       "    .dataframe thead th {\n",
       "        text-align: right;\n",
       "    }\n",
       "</style>\n",
       "<table border=\"1\" class=\"dataframe\">\n",
       "  <thead>\n",
       "    <tr style=\"text-align: right;\">\n",
       "      <th></th>\n",
       "      <th>Precipitation Score</th>\n",
       "    </tr>\n",
       "    <tr>\n",
       "      <th>Date</th>\n",
       "      <th></th>\n",
       "    </tr>\n",
       "  </thead>\n",
       "  <tbody>\n",
       "    <tr>\n",
       "      <th>2016-08-23</th>\n",
       "      <td>0.00</td>\n",
       "    </tr>\n",
       "    <tr>\n",
       "      <th>2016-08-23</th>\n",
       "      <td>0.15</td>\n",
       "    </tr>\n",
       "    <tr>\n",
       "      <th>2016-08-23</th>\n",
       "      <td>0.05</td>\n",
       "    </tr>\n",
       "    <tr>\n",
       "      <th>2016-08-23</th>\n",
       "      <td>NaN</td>\n",
       "    </tr>\n",
       "    <tr>\n",
       "      <th>2016-08-23</th>\n",
       "      <td>0.02</td>\n",
       "    </tr>\n",
       "    <tr>\n",
       "      <th>...</th>\n",
       "      <td>...</td>\n",
       "    </tr>\n",
       "    <tr>\n",
       "      <th>2017-08-22</th>\n",
       "      <td>0.50</td>\n",
       "    </tr>\n",
       "    <tr>\n",
       "      <th>2017-08-23</th>\n",
       "      <td>0.08</td>\n",
       "    </tr>\n",
       "    <tr>\n",
       "      <th>2017-08-23</th>\n",
       "      <td>0.00</td>\n",
       "    </tr>\n",
       "    <tr>\n",
       "      <th>2017-08-23</th>\n",
       "      <td>0.00</td>\n",
       "    </tr>\n",
       "    <tr>\n",
       "      <th>2017-08-23</th>\n",
       "      <td>0.45</td>\n",
       "    </tr>\n",
       "  </tbody>\n",
       "</table>\n",
       "<p>2230 rows × 1 columns</p>\n",
       "</div>"
      ],
      "text/plain": [
       "            Precipitation Score\n",
       "Date                           \n",
       "2016-08-23                 0.00\n",
       "2016-08-23                 0.15\n",
       "2016-08-23                 0.05\n",
       "2016-08-23                  NaN\n",
       "2016-08-23                 0.02\n",
       "...                         ...\n",
       "2017-08-22                 0.50\n",
       "2017-08-23                 0.08\n",
       "2017-08-23                 0.00\n",
       "2017-08-23                 0.00\n",
       "2017-08-23                 0.45\n",
       "\n",
       "[2230 rows x 1 columns]"
      ]
     },
     "execution_count": 11,
     "metadata": {},
     "output_type": "execute_result"
    }
   ],
   "source": [
    "# Design a query to retrieve the last 12 months of precipitation data and plot the results\n",
    "# Calculate the date 1 year ago from the last data point in the database\n",
    "latest_date= session.query(Measurement.date).order_by(Measurement.date.desc()).first().date\n",
    "#------------converted last date in the database in a string format---------#\n",
    "\n",
    "Last_Date = dt.date(2017, 8,23) + relativedelta(years=-1)     #https://www.pythonprogramming.in/subtract-n-number-of-year-month-day-hour-minute-second-to-current-date-time.html\n",
    "# Perform a query to retrieve the data and precipitation scores\n",
    "Precipitation_Data = session.query(Measurement.date,Measurement.prcp).filter(and_((Measurement.date >= Last_Date),(Measurement.date <= latest_date))).order_by(Measurement.date).all()\n",
    "# Save the query results as a Pandas DataFrame and set the index to the date column\n",
    "Precipitation_Data_Frame = pd.DataFrame(Precipitation_Data,columns=['Date','Precipitation Score'])\n",
    "\n",
    "Precipitation_Data_Frame.set_index('Date',inplace=True)\n",
    "\n",
    "# Sort the dataframe by date\n",
    "Precipitation_Data_Frame.sort_values('Date',inplace=True)\n",
    "\n",
    "\n",
    "# Use Pandas Plotting with Matplotlib to plot the data\n",
    "Precipitation_Data_Frame"
   ]
  },
  {
   "cell_type": "code",
   "execution_count": 264,
   "metadata": {},
   "outputs": [
    {
     "data": {
      "image/png": "[encoded data removed]",
      "text/plain": [
       "<Figure size 504x360 with 1 Axes>"
      ]
     },
     "metadata": {},
     "output_type": "display_data"
    }
   ],
   "source": [
    "Precipitation_Data_Frame.plot(figsize=(7,5))\n",
    "plt.tight_layout()\n",
    "plt.xticks(rotation='45')\n",
    "plt.legend(loc='upper right')\n",
    "plt.title(\"Precipitation Analysis\",color=\"red\")\n",
    "plt.savefig(\"Resources/PrecipitationAnalysis.png\")"
   ]
  },
  {
   "cell_type": "code",
   "execution_count": 13,
   "metadata": {},
   "outputs": [
    {
     "data": {
      "text/html": [
       "<div>\n",
       "<style scoped>\n",
       "    .dataframe tbody tr th:only-of-type {\n",
       "        vertical-align: middle;\n",
       "    }\n",
       "\n",
       "    .dataframe tbody tr th {\n",
       "        vertical-align: top;\n",
       "    }\n",
       "\n",
       "    .dataframe thead th {\n",
       "        text-align: right;\n",
       "    }\n",
       "</style>\n",
       "<table border=\"1\" class=\"dataframe\">\n",
       "  <thead>\n",
       "    <tr style=\"text-align: right;\">\n",
       "      <th></th>\n",
       "      <th>Precipitation Score</th>\n",
       "    </tr>\n",
       "  </thead>\n",
       "  <tbody>\n",
       "    <tr>\n",
       "      <th>count</th>\n",
       "      <td>2021.000000</td>\n",
       "    </tr>\n",
       "    <tr>\n",
       "      <th>mean</th>\n",
       "      <td>0.177279</td>\n",
       "    </tr>\n",
       "    <tr>\n",
       "      <th>std</th>\n",
       "      <td>0.461190</td>\n",
       "    </tr>\n",
       "    <tr>\n",
       "      <th>min</th>\n",
       "      <td>0.000000</td>\n",
       "    </tr>\n",
       "    <tr>\n",
       "      <th>25%</th>\n",
       "      <td>0.000000</td>\n",
       "    </tr>\n",
       "    <tr>\n",
       "      <th>50%</th>\n",
       "      <td>0.020000</td>\n",
       "    </tr>\n",
       "    <tr>\n",
       "      <th>75%</th>\n",
       "      <td>0.130000</td>\n",
       "    </tr>\n",
       "    <tr>\n",
       "      <th>max</th>\n",
       "      <td>6.700000</td>\n",
       "    </tr>\n",
       "  </tbody>\n",
       "</table>\n",
       "</div>"
      ],
      "text/plain": [
       "       Precipitation Score\n",
       "count          2021.000000\n",
       "mean              0.177279\n",
       "std               0.461190\n",
       "min               0.000000\n",
       "25%               0.000000\n",
       "50%               0.020000\n",
       "75%               0.130000\n",
       "max               6.700000"
      ]
     },
     "execution_count": 13,
     "metadata": {},
     "output_type": "execute_result"
    }
   ],
   "source": [
    "# Use Pandas to calcualte the summary statistics for the precipitation data\n",
    "Precipitation_Data_Frame.describe()"
   ]
  },
  {
   "cell_type": "code",
   "execution_count": 14,
   "metadata": {},
   "outputs": [
    {
     "name": "stdout",
     "output_type": "stream",
     "text": [
      "id INTEGER\n",
      "station TEXT\n",
      "name TEXT\n",
      "latitude FLOAT\n",
      "longitude FLOAT\n",
      "elevation FLOAT\n"
     ]
    }
   ],
   "source": [
    "Column = Inspector.get_columns('station')\n",
    "for column in Column:\n",
    "    print(column['name'],column['type'])"
   ]
  },
  {
   "cell_type": "code",
   "execution_count": 15,
   "metadata": {},
   "outputs": [
    {
     "name": "stdout",
     "output_type": "stream",
     "text": [
      "The no.of stations in this dataset are :[(9,)]\n"
     ]
    }
   ],
   "source": [
    "# Design a query to show how many stations are available in this dataset?\n",
    "Num_station = session.query(func.count(Station.station)).all()\n",
    "print(f\"The no.of stations in this dataset are :{Num_station}\")"
   ]
  },
  {
   "cell_type": "code",
   "execution_count": 16,
   "metadata": {},
   "outputs": [
    {
     "name": "stdout",
     "output_type": "stream",
     "text": [
      "The most active stations and their counts in hawaii are : [('USC00519281', 2772), ('USC00519397', 2724), ('USC00513117', 2709), ('USC00519523', 2669), ('USC00516128', 2612), ('USC00514830', 2202), ('USC00511918', 1979), ('USC00517948', 1372), ('USC00518838', 511)]\n",
      "------------------------------------------------------------------------\n",
      "The Most active station is : USC00519281\n"
     ]
    }
   ],
   "source": [
    "# What are the most active stations? (i.e. what stations have the most rows)?\n",
    "# List the stations and the counts in descending order.\n",
    "Active_Stations = session.query(Measurement.station,func.count(Measurement.station)).\\\n",
    "group_by(Measurement.station).\\\n",
    "order_by(func.count(Measurement.station).desc()).all()\n",
    "Most_Active_Station = Active_Stations[0][0]\n",
    "print(f\"The most active stations and their counts in hawaii are : {Active_Stations}\")\n",
    "print(\"------------------------------------------------------------------------\")\n",
    "print(f\"The Most active station is : {Most_Active_Station}\")"
   ]
  },
  {
   "cell_type": "code",
   "execution_count": 17,
   "metadata": {},
   "outputs": [
    {
     "name": "stdout",
     "output_type": "stream",
     "text": [
      "The Lowest temperature recorded for USC00519281 is  54.0\n",
      "The Highest temperature recorded for USC00519281 is  85.0\n",
      "The Average temperature recorded for USC00519281 is  71.66378066378067\n"
     ]
    }
   ],
   "source": [
    "# Using the station id from the previous query, calculate the lowest temperature recorded, \n",
    "# highest temperature recorded, and average temperature of the most active station?\n",
    "Active_Station_Data = session.query(func.min(Measurement.tobs),func.max(Measurement.tobs),func.avg(Measurement.tobs)).\\\n",
    "filter( Measurement.station == Most_Active_Station).all()\n",
    "print(f\"The Lowest temperature recorded for {Most_Active_Station} is  {Active_Station_Data[0][0]}\")\n",
    "print(f\"The Highest temperature recorded for {Most_Active_Station} is  {Active_Station_Data[0][1]}\")\n",
    "print(f\"The Average temperature recorded for {Most_Active_Station} is  {Active_Station_Data[0][2]}\")"
   ]
  },
  {
   "cell_type": "code",
   "execution_count": 18,
   "metadata": {},
   "outputs": [
    {
     "data": {
      "text/plain": [
       "[(59.0),\n",
       " (59.0),\n",
       " (59.0),\n",
       " (60.0),\n",
       " (60.0),\n",
       " (61.0),\n",
       " (62.0),\n",
       " (62.0),\n",
       " (62.0),\n",
       " (62.0),\n",
       " (62.0),\n",
       " (62.0),\n",
       " (63.0),\n",
       " (63.0),\n",
       " (63.0),\n",
       " (63.0),\n",
       " (64.0),\n",
       " (64.0),\n",
       " (64.0),\n",
       " (65.0),\n",
       " (65.0),\n",
       " (65.0),\n",
       " (65.0),\n",
       " (65.0),\n",
       " (65.0),\n",
       " (65.0),\n",
       " (66.0),\n",
       " (66.0),\n",
       " (66.0),\n",
       " (66.0),\n",
       " (66.0),\n",
       " (67.0),\n",
       " (67.0),\n",
       " (67.0),\n",
       " (67.0),\n",
       " (67.0),\n",
       " (67.0),\n",
       " (67.0),\n",
       " (67.0),\n",
       " (67.0),\n",
       " (67.0),\n",
       " (67.0),\n",
       " (67.0),\n",
       " (67.0),\n",
       " (67.0),\n",
       " (67.0),\n",
       " (68.0),\n",
       " (68.0),\n",
       " (68.0),\n",
       " (68.0),\n",
       " (68.0),\n",
       " (68.0),\n",
       " (68.0),\n",
       " (68.0),\n",
       " (68.0),\n",
       " (68.0),\n",
       " (68.0),\n",
       " (68.0),\n",
       " (69.0),\n",
       " (69.0),\n",
       " (69.0),\n",
       " (69.0),\n",
       " (69.0),\n",
       " (69.0),\n",
       " (69.0),\n",
       " (69.0),\n",
       " (69.0),\n",
       " (69.0),\n",
       " (69.0),\n",
       " (69.0),\n",
       " (69.0),\n",
       " (69.0),\n",
       " (69.0),\n",
       " (69.0),\n",
       " (69.0),\n",
       " (69.0),\n",
       " (69.0),\n",
       " (70.0),\n",
       " (70.0),\n",
       " (70.0),\n",
       " (70.0),\n",
       " (70.0),\n",
       " (70.0),\n",
       " (70.0),\n",
       " (70.0),\n",
       " (70.0),\n",
       " (70.0),\n",
       " (70.0),\n",
       " (70.0),\n",
       " (70.0),\n",
       " (70.0),\n",
       " (70.0),\n",
       " (70.0),\n",
       " (70.0),\n",
       " (70.0),\n",
       " (70.0),\n",
       " (70.0),\n",
       " (70.0),\n",
       " (70.0),\n",
       " (71.0),\n",
       " (71.0),\n",
       " (71.0),\n",
       " (71.0),\n",
       " (71.0),\n",
       " (71.0),\n",
       " (71.0),\n",
       " (71.0),\n",
       " (71.0),\n",
       " (71.0),\n",
       " (71.0),\n",
       " (71.0),\n",
       " (71.0),\n",
       " (71.0),\n",
       " (71.0),\n",
       " (71.0),\n",
       " (71.0),\n",
       " (71.0),\n",
       " (72.0),\n",
       " (72.0),\n",
       " (72.0),\n",
       " (72.0),\n",
       " (72.0),\n",
       " (72.0),\n",
       " (72.0),\n",
       " (72.0),\n",
       " (72.0),\n",
       " (72.0),\n",
       " (72.0),\n",
       " (72.0),\n",
       " (72.0),\n",
       " (72.0),\n",
       " (72.0),\n",
       " (72.0),\n",
       " (72.0),\n",
       " (72.0),\n",
       " (72.0),\n",
       " (72.0),\n",
       " (72.0),\n",
       " (72.0),\n",
       " (73.0),\n",
       " (73.0),\n",
       " (73.0),\n",
       " (73.0),\n",
       " (73.0),\n",
       " (73.0),\n",
       " (73.0),\n",
       " (73.0),\n",
       " (73.0),\n",
       " (73.0),\n",
       " (73.0),\n",
       " (73.0),\n",
       " (73.0),\n",
       " (73.0),\n",
       " (73.0),\n",
       " (73.0),\n",
       " (73.0),\n",
       " (73.0),\n",
       " (74.0),\n",
       " (74.0),\n",
       " (74.0),\n",
       " (74.0),\n",
       " (74.0),\n",
       " (74.0),\n",
       " (74.0),\n",
       " (74.0),\n",
       " (74.0),\n",
       " (74.0),\n",
       " (74.0),\n",
       " (74.0),\n",
       " (74.0),\n",
       " (74.0),\n",
       " (74.0),\n",
       " (74.0),\n",
       " (74.0),\n",
       " (74.0),\n",
       " (74.0),\n",
       " (74.0),\n",
       " (74.0),\n",
       " (74.0),\n",
       " (74.0),\n",
       " (74.0),\n",
       " (74.0),\n",
       " (74.0),\n",
       " (74.0),\n",
       " (74.0),\n",
       " (74.0),\n",
       " (74.0),\n",
       " (74.0),\n",
       " (74.0),\n",
       " (74.0),\n",
       " (74.0),\n",
       " (74.0),\n",
       " (74.0),\n",
       " (74.0),\n",
       " (74.0),\n",
       " (74.0),\n",
       " (75.0),\n",
       " (75.0),\n",
       " (75.0),\n",
       " (75.0),\n",
       " (75.0),\n",
       " (75.0),\n",
       " (75.0),\n",
       " (75.0),\n",
       " (75.0),\n",
       " (75.0),\n",
       " (75.0),\n",
       " (75.0),\n",
       " (75.0),\n",
       " (75.0),\n",
       " (75.0),\n",
       " (75.0),\n",
       " (75.0),\n",
       " (75.0),\n",
       " (75.0),\n",
       " (75.0),\n",
       " (75.0),\n",
       " (75.0),\n",
       " (75.0),\n",
       " (75.0),\n",
       " (75.0),\n",
       " (75.0),\n",
       " (75.0),\n",
       " (75.0),\n",
       " (75.0),\n",
       " (75.0),\n",
       " (75.0),\n",
       " (75.0),\n",
       " (75.0),\n",
       " (76.0),\n",
       " (76.0),\n",
       " (76.0),\n",
       " (76.0),\n",
       " (76.0),\n",
       " (76.0),\n",
       " (76.0),\n",
       " (76.0),\n",
       " (76.0),\n",
       " (76.0),\n",
       " (76.0),\n",
       " (76.0),\n",
       " (76.0),\n",
       " (76.0),\n",
       " (76.0),\n",
       " (76.0),\n",
       " (76.0),\n",
       " (76.0),\n",
       " (76.0),\n",
       " (76.0),\n",
       " (76.0),\n",
       " (76.0),\n",
       " (76.0),\n",
       " (76.0),\n",
       " (76.0),\n",
       " (76.0),\n",
       " (76.0),\n",
       " (76.0),\n",
       " (76.0),\n",
       " (76.0),\n",
       " (76.0),\n",
       " (76.0),\n",
       " (76.0),\n",
       " (77.0),\n",
       " (77.0),\n",
       " (77.0),\n",
       " (77.0),\n",
       " (77.0),\n",
       " (77.0),\n",
       " (77.0),\n",
       " (77.0),\n",
       " (77.0),\n",
       " (77.0),\n",
       " (77.0),\n",
       " (77.0),\n",
       " (77.0),\n",
       " (77.0),\n",
       " (77.0),\n",
       " (77.0),\n",
       " (77.0),\n",
       " (77.0),\n",
       " (77.0),\n",
       " (77.0),\n",
       " (77.0),\n",
       " (77.0),\n",
       " (77.0),\n",
       " (77.0),\n",
       " (77.0),\n",
       " (77.0),\n",
       " (77.0),\n",
       " (77.0),\n",
       " (77.0),\n",
       " (77.0),\n",
       " (77.0),\n",
       " (78.0),\n",
       " (78.0),\n",
       " (78.0),\n",
       " (78.0),\n",
       " (78.0),\n",
       " (78.0),\n",
       " (78.0),\n",
       " (78.0),\n",
       " (78.0),\n",
       " (78.0),\n",
       " (78.0),\n",
       " (78.0),\n",
       " (78.0),\n",
       " (78.0),\n",
       " (78.0),\n",
       " (78.0),\n",
       " (78.0),\n",
       " (78.0),\n",
       " (78.0),\n",
       " (78.0),\n",
       " (78.0),\n",
       " (78.0),\n",
       " (79.0),\n",
       " (79.0),\n",
       " (79.0),\n",
       " (79.0),\n",
       " (79.0),\n",
       " (79.0),\n",
       " (79.0),\n",
       " (79.0),\n",
       " (79.0),\n",
       " (79.0),\n",
       " (79.0),\n",
       " (79.0),\n",
       " (79.0),\n",
       " (79.0),\n",
       " (79.0),\n",
       " (79.0),\n",
       " (79.0),\n",
       " (79.0),\n",
       " (80.0),\n",
       " (80.0),\n",
       " (80.0),\n",
       " (80.0),\n",
       " (80.0),\n",
       " (80.0),\n",
       " (80.0),\n",
       " (80.0),\n",
       " (80.0),\n",
       " (80.0),\n",
       " (80.0),\n",
       " (81.0),\n",
       " (81.0),\n",
       " (81.0),\n",
       " (81.0),\n",
       " (82.0),\n",
       " (82.0),\n",
       " (82.0),\n",
       " (83.0)]"
      ]
     },
     "execution_count": 18,
     "metadata": {},
     "output_type": "execute_result"
    }
   ],
   "source": [
    "# Choose the station with the highest number of temperature observations.\n",
    "# Query the last 12 months of temperature observation data for this station and plot the results as a histogram\n",
    "Temperature_data = session.query(Measurement.tobs).\\\n",
    "filter(and_(Measurement.date >= Last_Date),(Measurement.date<= latest_date)).\\\n",
    "filter(Measurement.station == Most_Active_Station).\\\n",
    "order_by(Measurement.tobs).all()\n",
    "Temperature_data"
   ]
  },
  {
   "cell_type": "code",
   "execution_count": 19,
   "metadata": {},
   "outputs": [
    {
     "data": {
      "text/plain": [
       "74.0    39\n",
       "76.0    33\n",
       "75.0    33\n",
       "77.0    31\n",
       "70.0    22\n",
       "72.0    22\n",
       "78.0    22\n",
       "69.0    19\n",
       "73.0    18\n",
       "71.0    18\n",
       "79.0    18\n",
       "67.0    15\n",
       "68.0    12\n",
       "80.0    11\n",
       "65.0     7\n",
       "62.0     6\n",
       "66.0     5\n",
       "63.0     4\n",
       "81.0     4\n",
       "59.0     3\n",
       "64.0     3\n",
       "82.0     3\n",
       "60.0     2\n",
       "61.0     1\n",
       "83.0     1\n",
       "Name: Tobs, dtype: int64"
      ]
     },
     "execution_count": 19,
     "metadata": {},
     "output_type": "execute_result"
    }
   ],
   "source": [
    "Temperature_df = pd.DataFrame(Temperature_data,columns=['Tobs'])\n",
    "# Temperature_df.set_index('Temperature',inplace=True)\n",
    "Temperature_df.sort_values('Tobs',inplace=True)\n",
    "Temperature_df['Tobs'].value_counts()"
   ]
  },
  {
   "cell_type": "code",
   "execution_count": 263,
   "metadata": {},
   "outputs": [
    {
     "data": {
      "image/png": "[encoded data removed]",
      "text/plain": [
       "<Figure size 432x288 with 1 Axes>"
      ]
     },
     "metadata": {},
     "output_type": "display_data"
    }
   ],
   "source": [
    "Temperature_df.plot(kind='hist',bins=12)\n",
    "plt.xlabel(\"Temperature\")\n",
    "plt.title(\"Station Analysis\",color='orange',size=20,pad=12.5)\n",
    "plt.savefig(\"Resources/StationAnalysis.png\")"
   ]
  },
  {
   "cell_type": "markdown",
   "metadata": {},
   "source": [
    "## Bonus Challenge Assignment"
   ]
  },
  {
   "cell_type": "markdown",
   "metadata": {},
   "source": [
    "##### Temperature Analysis II"
   ]
  },
  {
   "cell_type": "code",
   "execution_count": 123,
   "metadata": {},
   "outputs": [
    {
     "name": "stdout",
     "output_type": "stream",
     "text": [
      "TMIN is 62.0\n",
      "TAVG is :69.4375\n",
      "TMAX is :74.0\n"
     ]
    }
   ],
   "source": [
    "# This function called `calc_temps` will accept start date and end date in the format '%Y-%m-%d' \n",
    "# and return the minimum, average, and maximum temperatures for that range of dates\n",
    "\n",
    "#     \"\"\"TMIN, TAVG, and TMAX for a list of dates.\n",
    "    \n",
    "#     Args:\n",
    "#         start_date (string): A date string in the format %Y-%m-%d\n",
    "#         end_date (string): A date string in the format %Y-%m-%d\n",
    "        \n",
    "#     Returns:\n",
    "#         TMIN, TAVE, and TMAX\n",
    "#     \"\"\"\n",
    "    \n",
    "from datetime import date\n",
    "def calc_temps(start_date, end_date):\n",
    "    Start_date = datetime.strptime(start_date,\"%Y-%m-%d\")\n",
    "    End_date = datetime.strptime(end_date,\"%Y-%m-%d\")\n",
    "    Query = session.query(func.min(Measurement.tobs), func.avg(Measurement.tobs), func.max(Measurement.tobs)).\\\n",
    "        filter(Measurement.date  >= Start_date).filter(Measurement.date <= End_date).all()\n",
    "    return (Query[0][0], Query[0][1], Query[0][2])\n",
    "\n",
    "    \n",
    "(t_min, t_avg, t_max) = calc_temps('2012-02-28', '2012-03-05')\n",
    "print(f\"TMIN is {t_min}\\nTAVG is :{t_avg}\\nTMAX is :{t_max}\")"
   ]
  },
  {
   "cell_type": "code",
   "execution_count": 126,
   "metadata": {},
   "outputs": [
    {
     "name": "stdout",
     "output_type": "stream",
     "text": [
      "TMIN is 61.0\n",
      "TAVG is :69.775\n",
      "TMAX is :74.0\n"
     ]
    }
   ],
   "source": [
    "# Use your previous function `calc_temps` to calculate the tmin, tavg, and tmax \n",
    "# for your trip using the previous year's data for those same dates.\n",
    "(T_min, T_avg, T_max) = calc_temps('2011-02-28','2011-03-05')\n",
    "print(f\"TMIN is {T_min}\\nTAVG is :{T_avg}\\nTMAX is :{T_max}\")"
   ]
  },
  {
   "cell_type": "code",
   "execution_count": 315,
   "metadata": {},
   "outputs": [
    {
     "data": {
      "image/png": "[encoded data removed]",
      "text/plain": [
       "<Figure size 432x288 with 1 Axes>"
      ]
     },
     "metadata": {},
     "output_type": "display_data"
    }
   ],
   "source": [
    "# Plot the results from your previous query as a bar chart. \n",
    "# Use \"Trip Avg Temp\" as your Title\n",
    "# Use the average temperature for the y value\n",
    "# Use the peak-to-peak (tmax-tmin) value as the y error bar (yerr)\n",
    "plt.bar(x=\" \",height=T_avg,yerr=T_max-T_min,alpha=0.25,color=\"red\")\n",
    "plt.tight_layout()\n",
    "plt.title(\"Trip Average Temp\",fontsize=15,color=\"orange\")\n",
    "plt.ylabel(\"Temp(F)\")\n",
    "plt.savefig(\"Resources/TripAverage.png\")"
   ]
  },
  {
   "cell_type": "markdown",
   "metadata": {},
   "source": [
    "### Daily Rainfall Average"
   ]
  },
  {
   "cell_type": "code",
   "execution_count": 151,
   "metadata": {},
   "outputs": [
    {
     "name": "stdout",
     "output_type": "stream",
     "text": [
      "[('USC00518838', 'UPPER WAHIAWA 874.3, HI US', 21.4992, -158.0111, 306.6, 2.33), ('USC00519281', 'WAIHEE 837.5, HI US', 21.45167, -157.84888999999998, 32.9, 2.23), ('USC00519523', 'WAIMANALO EXPERIMENTAL FARM, HI US', 21.33556, -157.71139, 19.5, 2.19), ('USC00514830', 'KUALOA RANCH HEADQUARTERS 886.9, HI US', 21.5213, -157.8374, 7.0, 1.96), ('USC00516128', 'MANOA LYON ARBO 785.2, HI US', 21.3331, -157.8025, 152.4, 1.45), ('USC00513117', 'KANEOHE 838.1, HI US', 21.4234, -157.8015, 14.6, 1.44), ('USC00519397', 'WAIKIKI 717.2, HI US', 21.2716, -157.8168, 3.0, 1.38), ('USC00511918', 'HONOLULU OBSERVATORY 702.2, HI US', 21.3152, -157.9992, 0.9, 0.63), ('USC00517948', 'PEARL CITY, HI US', 21.3934, -157.9751, 11.9, None)]\n"
     ]
    }
   ],
   "source": [
    "# Calculate the total amount of rainfall per weather station for your trip dates using the previous year's matching dates.\n",
    "# Sort this in descending order by precipitation amount and list the station, name, latitude, longitude, and elevation\n",
    "start_date =\"2011-02-28\"\n",
    "end_date = \"2011-03-05\"\n",
    "sel =[Station.station,Station.name,Station.latitude,Station.longitude,Station.elevation,func.sum(Measurement.prcp)]\n",
    "results = session.query(*sel).filter(Measurement.station==Station.station).\\\n",
    "filter(and_(Measurement.date>=start_date),(Measurement.date<=end_date)).\\\n",
    "                                     group_by(Station.name).order_by(func.sum(Measurement.prcp).desc()).all()\n",
    "print(results)"
   ]
  },
  {
   "cell_type": "markdown",
   "metadata": {},
   "source": [
    "### Temperature Analysis I"
   ]
  },
  {
   "cell_type": "code",
   "execution_count": 313,
   "metadata": {},
   "outputs": [
    {
     "name": "stdout",
     "output_type": "stream",
     "text": [
      "75.9575,71.125\n",
      "The ttest value is :22.436836687561442 and the pval is :1.0421380843293457e-72\n"
     ]
    }
   ],
   "source": [
    "import scipy.stats as sts\n",
    "june_query =list(np.ravel(session.query(Measurement.tobs).filter(func.strftime(\"%m\",Measurement.date) == \"06\").limit(400).all()))\n",
    "Dec_query = list(np.ravel(session.query(Measurement.tobs).filter(func.strftime(\"%m\",Measurement.date) == \"12\").limit(400).all()))\n",
    "ttest,pval = sts.ttest_rel(june_query,Dec_query)\n",
    "def Average(lst): \n",
    "    return sum(lst) / len(lst)\n",
    "Jun_mean = Average(june_query)\n",
    "Dec_mean = Average(Dec_query)\n",
    "\n",
    "print(f\"{Jun_mean},{Dec_mean}\")\n",
    "print(f\"The ttest value is :{ttest} and the pval is :{pval}\")\n"
   ]
  },
  {
   "cell_type": "markdown",
   "metadata": {},
   "source": [
    "## A small p-value (typically ≤ 0.05) indicates strong evidence against the null hypothesis, so you reject the null hypothesis.\n",
    "##### Null hypothesis:Hawaii is reputed to enjoy mild weather all year\n",
    "##### Alternate Hypothesis :Hawaii is not reputed to enjoy mild weather all year\n",
    "##### Since pvalue is much less than 0.05,it means null hypothesis is not True.\n",
    "##### Hence,there are differences in the temperatures of both the months.\n",
    "##### Also ,we can see that the mean between the two months are not the same .\n",
    "##### Hence we would like to conclude that we reject the Null Hypothesis based on the statistics here.\n",
    "##### And Hawaii is not reputed to ennjoy the mild weather all year.\n",
    "##### We have used a paired test here because: \n",
    "##### A paired t-test is used when we are interested in the difference between two variables for the same subject.\n",
    "##### Often the two variables are separated by time."
   ]
  },
  {
   "cell_type": "code",
   "execution_count": 268,
   "metadata": {},
   "outputs": [
    {
     "data": {
      "text/plain": [
       "[(62.0, 69.15384615384616, 77.0)]"
      ]
     },
     "execution_count": 268,
     "metadata": {},
     "output_type": "execute_result"
    }
   ],
   "source": [
    "# Create a query that will calculate the daily normals \n",
    "# (i.e. the averages for tmin, tmax, and tavg for all historic data matching a specific month and day)\n",
    "\n",
    "def daily_normals(date):\n",
    "    \"\"\"Daily Normals.\n",
    "    \n",
    "    Args:\n",
    "        date (str): A date string in the format '%m-%d'\n",
    "        \n",
    "    Returns:\n",
    "        A list of tuples containing the daily normals, tmin, tavg, and tmax\n",
    "    \n",
    "    \"\"\"\n",
    "    \n",
    "    sel = [func.min(Measurement.tobs), func.avg(Measurement.tobs), func.max(Measurement.tobs)]\n",
    "    return session.query(*sel).filter(func.strftime(\"%m-%d\", Measurement.date) == date).all()\n",
    "    \n",
    "daily_normals(\"01-01\")"
   ]
  },
  {
   "cell_type": "code",
   "execution_count": null,
   "metadata": {},
   "outputs": [],
   "source": []
  },
  {
   "cell_type": "code",
   "execution_count": 239,
   "metadata": {},
   "outputs": [
    {
     "data": {
      "text/plain": [
       "{'TMIN': [62.0, 64.0, 60.0, 60.0, 56.0, 59.0, 58.0, 61.0, 59.0],\n",
       " 'TAVG': [69.03703703703704,\n",
       "  69.14,\n",
       "  67.12962962962963,\n",
       "  68.47368421052632,\n",
       "  68.14035087719299,\n",
       "  68.85964912280701,\n",
       "  67.79661016949153,\n",
       "  68.14035087719299,\n",
       "  69.6842105263158],\n",
       " 'TMAX': [77.0, 76.0, 77.0, 74.0, 78.0, 77.0, 77.0, 76.0, 80.0]}"
      ]
     },
     "execution_count": 239,
     "metadata": {},
     "output_type": "execute_result"
    }
   ],
   "source": [
    "# calculate the daily normals for your trip\n",
    "# push each tuple of calculations into a list called `normals`\n",
    "\n",
    "# Set the start and end date of the trip\n",
    "start_date =\"2016-01-28\"\n",
    "end_date = \"2016-02-05\"\n",
    "# Use the start and end date to create a range of dates\n",
    "strip_date = list(np.ravel(session.query(func.strftime(\"%m-%d\",Measurement.date)).filter(and_(Measurement.date>=start_date),(Measurement.date<=end_date)).group_by(Measurement.date).all()))\n",
    "# Stip off the year and save a list of %m-%d strings\n",
    "trip_date = list(np.ravel(session.query(Measurement.date).filter(and_(Measurement.date>=start_date),(Measurement.date<=end_date)).group_by(Measurement.date).all()))\n",
    "# Loop through the list of %m-%d strings and calculate the normals for each date\n",
    "result = []\n",
    "dict={}\n",
    "dict[\"TMIN\"] = []\n",
    "dict[\"TAVG\"] = []\n",
    "dict[\"TMAX\"] = []\n",
    "for date in strip_date:\n",
    "    result.append(daily_normals(date))\n",
    "for item in result:\n",
    "    dict[\"TMIN\"].append(item[0][0])\n",
    "    dict[\"TAVG\"].append(item[0][1])\n",
    "    dict[\"TMAX\"].append(item[0][2])\n",
    "dict"
   ]
  },
  {
   "cell_type": "code",
   "execution_count": 253,
   "metadata": {},
   "outputs": [
    {
     "data": {
      "text/html": [
       "<div>\n",
       "<style scoped>\n",
       "    .dataframe tbody tr th:only-of-type {\n",
       "        vertical-align: middle;\n",
       "    }\n",
       "\n",
       "    .dataframe tbody tr th {\n",
       "        vertical-align: top;\n",
       "    }\n",
       "\n",
       "    .dataframe thead th {\n",
       "        text-align: right;\n",
       "    }\n",
       "</style>\n",
       "<table border=\"1\" class=\"dataframe\">\n",
       "  <thead>\n",
       "    <tr style=\"text-align: right;\">\n",
       "      <th></th>\n",
       "      <th>TMIN</th>\n",
       "      <th>TAVG</th>\n",
       "      <th>TMAX</th>\n",
       "    </tr>\n",
       "    <tr>\n",
       "      <th>Trip Dates</th>\n",
       "      <th></th>\n",
       "      <th></th>\n",
       "      <th></th>\n",
       "    </tr>\n",
       "  </thead>\n",
       "  <tbody>\n",
       "    <tr>\n",
       "      <th>2016-01-28</th>\n",
       "      <td>62.0</td>\n",
       "      <td>69.037037</td>\n",
       "      <td>77.0</td>\n",
       "    </tr>\n",
       "    <tr>\n",
       "      <th>2016-01-29</th>\n",
       "      <td>64.0</td>\n",
       "      <td>69.140000</td>\n",
       "      <td>76.0</td>\n",
       "    </tr>\n",
       "    <tr>\n",
       "      <th>2016-01-30</th>\n",
       "      <td>60.0</td>\n",
       "      <td>67.129630</td>\n",
       "      <td>77.0</td>\n",
       "    </tr>\n",
       "    <tr>\n",
       "      <th>2016-01-31</th>\n",
       "      <td>60.0</td>\n",
       "      <td>68.473684</td>\n",
       "      <td>74.0</td>\n",
       "    </tr>\n",
       "    <tr>\n",
       "      <th>2016-02-01</th>\n",
       "      <td>56.0</td>\n",
       "      <td>68.140351</td>\n",
       "      <td>78.0</td>\n",
       "    </tr>\n",
       "    <tr>\n",
       "      <th>2016-02-02</th>\n",
       "      <td>59.0</td>\n",
       "      <td>68.859649</td>\n",
       "      <td>77.0</td>\n",
       "    </tr>\n",
       "    <tr>\n",
       "      <th>2016-02-03</th>\n",
       "      <td>58.0</td>\n",
       "      <td>67.796610</td>\n",
       "      <td>77.0</td>\n",
       "    </tr>\n",
       "    <tr>\n",
       "      <th>2016-02-04</th>\n",
       "      <td>61.0</td>\n",
       "      <td>68.140351</td>\n",
       "      <td>76.0</td>\n",
       "    </tr>\n",
       "    <tr>\n",
       "      <th>2016-02-05</th>\n",
       "      <td>59.0</td>\n",
       "      <td>69.684211</td>\n",
       "      <td>80.0</td>\n",
       "    </tr>\n",
       "  </tbody>\n",
       "</table>\n",
       "</div>"
      ],
      "text/plain": [
       "            TMIN       TAVG  TMAX\n",
       "Trip Dates                       \n",
       "2016-01-28  62.0  69.037037  77.0\n",
       "2016-01-29  64.0  69.140000  76.0\n",
       "2016-01-30  60.0  67.129630  77.0\n",
       "2016-01-31  60.0  68.473684  74.0\n",
       "2016-02-01  56.0  68.140351  78.0\n",
       "2016-02-02  59.0  68.859649  77.0\n",
       "2016-02-03  58.0  67.796610  77.0\n",
       "2016-02-04  61.0  68.140351  76.0\n",
       "2016-02-05  59.0  69.684211  80.0"
      ]
     },
     "execution_count": 253,
     "metadata": {},
     "output_type": "execute_result"
    }
   ],
   "source": [
    "# Load the previous query results into a Pandas DataFrame and add the `trip_dates` range as the `date` index\n",
    "Trip_df = pd.DataFrame(dict)\n",
    "Trip_df[\"Trip Dates\"] = trip_date\n",
    "Trip_df.set_index('Trip Dates',inplace =True)\n",
    "Trip_df.sort_values(by='Trip Dates',ascending=True,inplace =True)\n",
    "Trip_df"
   ]
  },
  {
   "cell_type": "code",
   "execution_count": 261,
   "metadata": {},
   "outputs": [
    {
     "data": {
      "image/png": "[encoded data removed]",
      "text/plain": [
       "<Figure size 720x360 with 1 Axes>"
      ]
     },
     "metadata": {},
     "output_type": "display_data"
    }
   ],
   "source": [
    "# Plot the daily normals as an area plot with `stacked=False`\n",
    "Trip_df.plot(kind='area',stacked=False,alpha=0.25,figsize=(10,5))\n",
    "# plt.tight_layout()\n",
    "plt.xticks(rotation=30)\n",
    "plt.ylabel(\"Temp\")\n",
    "plt.title(\"Daily Normals for My Trip\",color=\"blue\")\n",
    "plt.savefig(\"Resources/DailyNormals.png\")"
   ]
  },
  {
   "cell_type": "code",
   "execution_count": null,
   "metadata": {},
   "outputs": [],
   "source": []
  }
 ],
 "metadata": {
  "kernel_info": {
   "name": "python3"
  },
  "kernelspec": {
   "display_name": "Python 3",
   "language": "python",
   "name": "python3"
  },
  "language_info": {
   "codemirror_mode": {
    "name": "ipython",
    "version": 3
   },
   "file_extension": ".py",
   "mimetype": "text/x-python",
   "name": "python",
   "nbconvert_exporter": "python",
   "pygments_lexer": "ipython3",
   "version": "3.7.7"
  },
  "nteract": {
   "version": "0.12.3"
  },
  "varInspector": {
   "cols": {
    "lenName": 16,
    "lenType": 16,
    "lenVar": 40
   },
   "kernels_config": {
    "python": {
     "delete_cmd_postfix": "",
     "delete_cmd_prefix": "del ",
     "library": "var_list.py",
     "varRefreshCmd": "print(var_dic_list())"
    },
    "r": {
     "delete_cmd_postfix": ") ",
     "delete_cmd_prefix": "rm(",
     "library": "var_list.r",
     "varRefreshCmd": "cat(var_dic_list()) "
    }
   },
   "types_to_exclude": [
    "module",
    "function",
    "builtin_function_or_method",
    "instance",
    "_Feature"
   ],
   "window_display": false
  }
 },
 "nbformat": 4,
 "nbformat_minor": 4
}
